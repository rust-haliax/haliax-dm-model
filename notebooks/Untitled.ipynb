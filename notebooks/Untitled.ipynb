{
 "cells": [
  {
   "cell_type": "code",
   "execution_count": 2,
   "metadata": {},
   "outputs": [],
   "source": [
    "import matplotlib.pyplot as plt\n",
    "import numpy as np"
   ]
  },
  {
   "cell_type": "code",
   "execution_count": 22,
   "metadata": {},
   "outputs": [],
   "source": [
    "ts = np.array([\n",
    "0,\n",
    "0.000001,\n",
    "0.000009,\n",
    "0.000073,\n",
    "0.000585,\n",
    "0.004680999999999999,\n",
    "0.037448999999999996,\n",
    "0.17775712980171315,\n",
    "0.27874790396441407,\n",
    "0.3461129742296368,\n",
    "0.41016202727961615,\n",
    "0.4714818980218511,\n",
    "0.532801768764086,\n",
    "0.5966403904616963,\n",
    "0.6451020796257174,\n",
    "0.6935637687897386,\n",
    "0.7346336768342696,\n",
    "0.7757035848788006,\n",
    "0.8143441294531324,\n",
    "0.852984674027464,\n",
    "0.8896848259620853,\n",
    "0.9263849778967066,\n",
    "0.9740585516321433,\n",
    "1.006369308900057,\n",
    "1.0386800661679705,\n",
    "1.0717281213895709,\n",
    "1.1047761766111712,\n",
    "1.1418339539485969,\n",
    "1.1788917312860225,\n",
    "1.2670967626715495,\n",
    "1.3553017940570764,\n",
    "1.542282972818533,\n",
    "1.79161857155459,\n",
    "2.9420057098565,\n",
    "6.907755278982137\n",
    "])\n",
    "\n",
    "us = np.array([\n",
    "-5.720790235014612,\n",
    "-5.720790559052508,\n",
    "-5.720793153049703,\n",
    "-5.7208139069432296,\n",
    "-5.720980023145342,\n",
    "-5.722314380644454,\n",
    "-5.7333538258662795,\n",
    "-5.789083303603683,\n",
    "-5.83821247886966,\n",
    "-5.87475420800818,\n",
    "-5.914929386435037,\n",
    "-5.958197337292561,\n",
    "-6.005247003739693,\n",
    "-6.058894822100714,\n",
    "-6.1038814085598325,\n",
    "-6.153798202431732,\n",
    "-6.197788537554528,\n",
    "-6.244397743653925,\n",
    "-6.29148008445473,\n",
    "-6.341884884060294,\n",
    "-6.392597932065047,\n",
    "-6.446234951203785,\n",
    "-6.518487717746647,\n",
    "-6.571245978018453,\n",
    "-6.626622538921473,\n",
    "-6.684505579647227,\n",
    "-6.742742216155483,\n",
    "-6.8069447173946145,\n",
    "-6.864418812387787,\n",
    "-6.948090535562213,\n",
    "-6.968730722181635,\n",
    "-6.971394942616228,\n",
    "-6.971400791869934,\n",
    "-6.97140092420042,\n",
    "-6.971400932520976\n",
    "])"
   ]
  },
  {
   "cell_type": "code",
   "execution_count": 23,
   "metadata": {},
   "outputs": [
    {
     "data": {
      "text/plain": [
       "[<matplotlib.lines.Line2D at 0x11e410c50>]"
      ]
     },
     "execution_count": 23,
     "metadata": {},
     "output_type": "execute_result"
    },
    {
     "data": {
      "image/png": "[encoded data removed]",
      "text/plain": [
       "<Figure size 432x288 with 1 Axes>"
      ]
     },
     "metadata": {},
     "output_type": "display_data"
    }
   ],
   "source": [
    "plt.plot(ts,us)"
   ]
  },
  {
   "cell_type": "code",
   "execution_count": null,
   "metadata": {},
   "outputs": [],
   "source": []
  }
 ],
 "metadata": {
  "kernelspec": {
   "display_name": "Python 3",
   "language": "python",
   "name": "python3"
  },
  "language_info": {
   "codemirror_mode": {
    "name": "ipython",
    "version": 3
   },
   "file_extension": ".py",
   "mimetype": "text/x-python",
   "name": "python",
   "nbconvert_exporter": "python",
   "pygments_lexer": "ipython3",
   "version": "3.6.2"
  }
 },
 "nbformat": 4,
 "nbformat_minor": 2
}
